{
  "nbformat": 4,
  "nbformat_minor": 0,
  "metadata": {
    "colab": {
      "name": "HW5LAB",
      "provenance": []
    },
    "kernelspec": {
      "name": "python3",
      "display_name": "Python 3"
    }
  },
  "cells": [
    {
      "cell_type": "markdown",
      "metadata": {
        "id": "LQPjGgEM4gVa",
        "colab_type": "text"
      },
      "source": [
        "#guest Speaker lab"
      ]
    },
    {
      "cell_type": "code",
      "metadata": {
        "id": "GVUfZ3tG3PQ0",
        "colab_type": "code",
        "outputId": "1204f7a4-d7aa-4d46-b4a2-bff425d08bc1",
        "colab": {
          "base_uri": "https://localhost:8080/",
          "height": 35
        }
      },
      "source": [
        "#to access data from your google drive\n",
        "\n",
        "from google.colab import drive\n",
        "drive.mount(\"/content/drive\") #mounts my drive to colab allowing colab to have access to my drive and everything in it"
      ],
      "execution_count": 3,
      "outputs": [
        {
          "output_type": "stream",
          "text": [
            "Drive already mounted at /content/drive; to attempt to forcibly remount, call drive.mount(\"/content/drive\", force_remount=True).\n"
          ],
          "name": "stdout"
        }
      ]
    },
    {
      "cell_type": "code",
      "metadata": {
        "id": "zYcAbYnC5kJP",
        "colab_type": "code",
        "outputId": "7b6da2dc-83a4-4828-9098-7fa41c5fe2a9",
        "colab": {
          "base_uri": "https://localhost:8080/",
          "height": 35
        }
      },
      "source": [
        "ls"
      ],
      "execution_count": 4,
      "outputs": [
        {
          "output_type": "stream",
          "text": [
            "\u001b[0m\u001b[01;34mdrive\u001b[0m/  \u001b[01;34msample_data\u001b[0m/\n"
          ],
          "name": "stdout"
        }
      ]
    },
    {
      "cell_type": "code",
      "metadata": {
        "id": "j5ycM6-u5lXd",
        "colab_type": "code",
        "outputId": "a66d3b78-3d6c-4cd8-e5ba-cac0780f452e",
        "colab": {
          "base_uri": "https://localhost:8080/",
          "height": 1000
        }
      },
      "source": [
        "ls \"drive/My Drive\"\n"
      ],
      "execution_count": 5,
      "outputs": [
        {
          "output_type": "stream",
          "text": [
            "' 2019 Spring Grade Report Form.gsheet'\n",
            "\"allie's stupid fucking paper that she doesnt want to fucking write but she fucking has to anyways.gdoc\"\n",
            " asdnfiqerbogqeoirvn.gsheet\n",
            "'CANADA!!!!🍁.gdoc'\n",
            "'CIEG213-Lab 2 Experimental measurements .gsheet'\n",
            "'CIEG 213 Lab Final Presentation.gslides'\n",
            "'CIEG Fluids Lab.gdoc'\n",
            "'CIEG Fluids Lab.gsheet'\n",
            "'CIEG project 2.gsheet'\n",
            "'CISC181 lab2.gdoc'\n",
            "'CISC181 lab 5.gdoc'\n",
            "\u001b[0m\u001b[01;34m'Colab Notebooks'\u001b[0m/\n",
            " \u001b[01;34mcomm212\u001b[0m/\n",
            "'Deja vu .gslides'\n",
            " DesignOption1-50galDrum.ipt\n",
            "'DesignOption1-50galDrum orthographic view.dwg'\n",
            "'DesignOption1-50galDrum orthographic view.PNG'\n",
            " DesignOption1-ColumnsOf2literBottles.ipt\n",
            "'DesignOption1-ColumnsOf2literBottles orthograpghic view.dwg'\n",
            "'DesignOption2-ColumnsOf2literBottles orthograpghic view.PNG'\n",
            " DesignOption3-CylindersOfNetting.ipt\n",
            "'DesignOption3-CylindersOfNetting orthographic view.dwg'\n",
            "'DesignOption3-CylindersOfNetting orthographic view.PNG'\n",
            " \u001b[01;34mdsps\u001b[0m/\n",
            " \u001b[01;34mDSPS2019_dir\u001b[0m/\n",
            "'EasyBib Bibliography: 11 13 2017 7:23 PM.gdoc'\n",
            "'EGGG A1.3.gdoc'\n",
            "'EGGG A2.gdoc'\n",
            "\"Ellie's favorite class grade.gsheet\"\n",
            "'End user Doc.gdoc'\n",
            "'ENGL essay 3.gdoc'\n",
            "'English Prensentation Nolan Pepper.gslides'\n",
            "'feasibilityReportAllieDeAbreu (1).docx'\n",
            "'feasibilityReportAllieDeAbreu (1).gdoc'\n",
            "'FRIENDS SHEET.gsheet'\n",
            "'Getting started.pdf'\n",
            "'Housing 2018-2019 options.gdoc'\n",
            "'In Plato’s Euthyphro, Socrates encounters Euthyphro on the porch of king Archon, or the steps of the court.gdoc'\n",
            "'It all freaking started with a Big freaking Bang .gdoc'\n",
            "'Italy Schedule.pdf'\n",
            "'lab 2 Allie DEABREU.gdoc'\n",
            "'Lab 4 Allie DeAbreu.gdoc'\n",
            "'Lab4_try on paper .gdoc'\n",
            "'Lab 5 Coupled oscillators.gdoc'\n",
            "'Madeline crossing 208.gslides'\n",
            "'Madeline crossing apartment 208.gdoc'\n",
            " mime-attachment.pdf\n",
            "'MY MENTEES INFO.gsheet'\n",
            "'MY NEXT FIVE YEARS OF LIFE 2018~2021F.gsheet'\n",
            "'OPTICS lab1-optics and light.gdoc'\n",
            "'Optics lab2.gdoc'\n",
            "'Optics lab 4.gdoc'\n",
            "'Paintball Markers.gslides'\n",
            "'PHYS211 lab 1.gsheet'\n",
            "'Phys211 lab 1 report.gdoc'\n",
            "'ResumeAllison DeAbreu.gdoc'\n",
            "'STATISTICS MISSED LECTURES-NOTE.gdoc'\n",
            "'student absence form.pdf'\n",
            " \u001b[01;34mtest_dir\u001b[0m/\n",
            " \u001b[01;34mTest_dir\u001b[0m/\n",
            "'thanks for helping mom.gdoc'\n",
            "'Untitled document.gdoc'\n",
            "'Untitled spreadsheet (1).gsheet'\n",
            "'Untitled spreadsheet.gsheet'\n"
          ],
          "name": "stdout"
        }
      ]
    },
    {
      "cell_type": "code",
      "metadata": {
        "id": "Q7JSGDgO5pTk",
        "colab_type": "code",
        "colab": {}
      },
      "source": [
        "#unix commands allow you to control your computer without clicking and dragging \n",
        "\n",
        "# most common \n",
        "#ls list files in dir\n",
        "# cp coppy"
      ],
      "execution_count": 0,
      "outputs": []
    },
    {
      "cell_type": "code",
      "metadata": {
        "id": "-fBpckTJIxZ2",
        "colab_type": "code",
        "colab": {
          "base_uri": "https://localhost:8080/",
          "height": 35
        },
        "outputId": "0594bd35-200e-4cc0-8104-50a9c7143671"
      },
      "source": [
        "mkdir \"drive/My Drive/Test_dir\""
      ],
      "execution_count": 7,
      "outputs": [
        {
          "output_type": "stream",
          "text": [
            "mkdir: cannot create directory ‘drive/My Drive/Test_dir’: File exists\n"
          ],
          "name": "stdout"
        }
      ]
    },
    {
      "cell_type": "code",
      "metadata": {
        "id": "YORGkj-LJDsi",
        "colab_type": "code",
        "outputId": "7199ab47-6b15-410e-8c08-cc44797e6474",
        "colab": {
          "base_uri": "https://localhost:8080/",
          "height": 121
        }
      },
      "source": [
        "!wget https://www2.census.gov/programs-serveys/cbp/datasets/2016/zbp16totals.zip"
      ],
      "execution_count": 8,
      "outputs": [
        {
          "output_type": "stream",
          "text": [
            "--2019-10-02 03:41:36--  https://www2.census.gov/programs-serveys/cbp/datasets/2016/zbp16totals.zip\n",
            "Resolving www2.census.gov (www2.census.gov)... 23.46.200.113, 2600:1402:3800:29f::208c, 2600:1402:3800:29d::208c\n",
            "Connecting to www2.census.gov (www2.census.gov)|23.46.200.113|:443... connected.\n",
            "HTTP request sent, awaiting response... 404 Not Found\n",
            "2019-10-02 03:41:39 ERROR 404: Not Found.\n",
            "\n"
          ],
          "name": "stdout"
        }
      ]
    },
    {
      "cell_type": "code",
      "metadata": {
        "id": "xtWqsQ5FJUFL",
        "colab_type": "code",
        "colab": {
          "base_uri": "https://localhost:8080/",
          "height": 35
        },
        "outputId": "ff1c9209-2595-4ea8-b04e-8a6e1ff965b0"
      },
      "source": [
        "ls"
      ],
      "execution_count": 9,
      "outputs": [
        {
          "output_type": "stream",
          "text": [
            "\u001b[0m\u001b[01;34mdrive\u001b[0m/  \u001b[01;34msample_data\u001b[0m/\n"
          ],
          "name": "stdout"
        }
      ]
    },
    {
      "cell_type": "code",
      "metadata": {
        "id": "MSCVgLU-JVzt",
        "colab_type": "code",
        "colab": {
          "base_uri": "https://localhost:8080/",
          "height": 35
        },
        "outputId": "08b8bbf1-701e-43b5-d835-80801bcce236"
      },
      "source": [
        "!unzip  zbp16totals.zip -d \"drive/My Drive/Test_dir\"  #!unzip unzips zip files"
      ],
      "execution_count": 10,
      "outputs": [
        {
          "output_type": "stream",
          "text": [
            "unzip:  cannot find or open zbp16totals.zip, zbp16totals.zip.zip or zbp16totals.zip.ZIP.\n"
          ],
          "name": "stdout"
        }
      ]
    },
    {
      "cell_type": "markdown",
      "metadata": {
        "id": "lMJUT5PnKEJT",
        "colab_type": "text"
      },
      "source": [
        "in-class 25 Sept "
      ]
    },
    {
      "cell_type": "code",
      "metadata": {
        "id": "KIEFZChdJ_tY",
        "colab_type": "code",
        "outputId": "7b6c62fd-0b54-4846-c8b1-4c21f454a1f5",
        "colab": {
          "base_uri": "https://localhost:8080/",
          "height": 208
        }
      },
      "source": [
        "import os\n",
        "!wget https://www2.census.gov/programs-surveys/cbp/datasets/2016/zbp16detail.zip"
      ],
      "execution_count": 11,
      "outputs": [
        {
          "output_type": "stream",
          "text": [
            "--2019-10-02 03:41:43--  https://www2.census.gov/programs-surveys/cbp/datasets/2016/zbp16detail.zip\n",
            "Resolving www2.census.gov (www2.census.gov)... 23.46.200.113, 2600:1402:3800:29f::208c, 2600:1402:3800:29d::208c\n",
            "Connecting to www2.census.gov (www2.census.gov)|23.46.200.113|:443... connected.\n",
            "HTTP request sent, awaiting response... 200 OK\n",
            "Length: unspecified [application/zip]\n",
            "Saving to: ‘zbp16detail.zip’\n",
            "\n",
            "zbp16detail.zip         [    <=>             ]  27.51M  41.7MB/s    in 0.7s    \n",
            "\n",
            "2019-10-02 03:41:47 (41.7 MB/s) - ‘zbp16detail.zip’ saved [28843251]\n",
            "\n"
          ],
          "name": "stdout"
        }
      ]
    },
    {
      "cell_type": "code",
      "metadata": {
        "id": "CtqWyrbuKyiN",
        "colab_type": "code",
        "outputId": "e1e26984-3042-4f1a-bf9c-d1f4c8fccbd7",
        "colab": {
          "base_uri": "https://localhost:8080/",
          "height": 69
        }
      },
      "source": [
        "!unzip zbp16detail.zip -d \"drive/My Drive/DSPS2019_dir\""
      ],
      "execution_count": 13,
      "outputs": [
        {
          "output_type": "stream",
          "text": [
            "Archive:  zbp16detail.zip\n",
            "replace drive/My Drive/DSPS2019_dir/zbp16detail.txt? [y]es, [n]o, [A]ll, [N]one, [r]ename: y\n",
            "  inflating: drive/My Drive/DSPS2019_dir/zbp16detail.txt  \n"
          ],
          "name": "stdout"
        }
      ]
    },
    {
      "cell_type": "code",
      "metadata": {
        "id": "8hkxRHrtK_yy",
        "colab_type": "code",
        "outputId": "aaf25b58-c06c-4a94-b5b7-50ff8a8c75a8",
        "colab": {
          "base_uri": "https://localhost:8080/",
          "height": 35
        }
      },
      "source": [
        "ls\n"
      ],
      "execution_count": 14,
      "outputs": [
        {
          "output_type": "stream",
          "text": [
            "\u001b[0m\u001b[01;34mdrive\u001b[0m/  \u001b[01;34msample_data\u001b[0m/  zbp16detail.zip\n"
          ],
          "name": "stdout"
        }
      ]
    },
    {
      "cell_type": "code",
      "metadata": {
        "id": "NGk9Bsf8LE6f",
        "colab_type": "code",
        "outputId": "6627cec2-f297-4752-9f0d-4c09ae762c42",
        "colab": {
          "base_uri": "https://localhost:8080/",
          "height": 35
        }
      },
      "source": [
        "ls \"drive/My Drive/DSPS\""
      ],
      "execution_count": 15,
      "outputs": [
        {
          "output_type": "stream",
          "text": [
            "ls: cannot access 'drive/My Drive/DSPS': No such file or directory\n"
          ],
          "name": "stdout"
        }
      ]
    },
    {
      "cell_type": "code",
      "metadata": {
        "id": "dU4jP0tBHciK",
        "colab_type": "code",
        "colab": {}
      },
      "source": [
        "import os"
      ],
      "execution_count": 0,
      "outputs": []
    },
    {
      "cell_type": "code",
      "metadata": {
        "id": "tlyh4BYZCVwU",
        "colab_type": "code",
        "colab": {}
      },
      "source": [
        "ls \"drive/My Drive/test_dir\""
      ],
      "execution_count": 0,
      "outputs": []
    },
    {
      "cell_type": "code",
      "metadata": {
        "id": "Y_HrWL7XCYgt",
        "colab_type": "code",
        "outputId": "552667b7-144c-4181-c447-a058455de3e3",
        "colab": {
          "base_uri": "https://localhost:8080/",
          "height": 35
        }
      },
      "source": [
        "cmd = \"rm -r drive/My Drive/test_dir\"\n",
        "os.system(cmd)"
      ],
      "execution_count": 18,
      "outputs": [
        {
          "output_type": "execute_result",
          "data": {
            "text/plain": [
              "256"
            ]
          },
          "metadata": {
            "tags": []
          },
          "execution_count": 18
        }
      ]
    },
    {
      "cell_type": "code",
      "metadata": {
        "id": "y1PYnbrtYnpk",
        "colab_type": "code",
        "colab": {}
      },
      "source": [
        "mkdir \"drive/My Drive/test_dir/zbp\""
      ],
      "execution_count": 0,
      "outputs": []
    },
    {
      "cell_type": "code",
      "metadata": {
        "id": "w6-NMWMuCfHM",
        "colab_type": "code",
        "colab": {}
      },
      "source": [
        "import glob\n",
        "if len(glob.glob(\"drive/My Drive/dsps2019\")) == 0:\n",
        "  os.system(\"mkdir drive/My\\ Drive/dsps2019\")"
      ],
      "execution_count": 0,
      "outputs": []
    },
    {
      "cell_type": "code",
      "metadata": {
        "id": "b81nanquH4AW",
        "colab_type": "code",
        "outputId": "846c07c4-3897-4165-ed44-a81befb40191",
        "colab": {
          "base_uri": "https://localhost:8080/",
          "height": 451
        }
      },
      "source": [
        "path = \"drive/My Drive/test_dir/zbp\"\n",
        "res = os.system(\"mkdir \" + path.replace(\" \",\"// \"))\n",
        "\n",
        "\n",
        "  \n",
        "for ii in range(10,15):\n",
        "  \n",
        "  snum = str(ii)\n",
        "  \n",
        "  #making the form for the three commands in advance saves me typing later\n",
        "  cmd_wget = \"wget https://www2.census.gov/programs-surveys/cbp/datasets/\" +\\\n",
        "  \"20{0}/zbp{0}detail.zip\".format(ii)\n",
        "  \n",
        "  cmd_unzip = \"unzip {} -d {}\".format(cmd_wget.split(\"/\")[-1], path.replace(\" \",\"\\\\ \"))\n",
        "  print(cmd_unzip)\n",
        "  \n",
        "  cmd_rm = \"rm {} \".format(\"zbp{0}detail.zip\".format(ii))\n",
        "  print(cmd_rm)\n",
        "  \n",
        "  print(\"downloading year 20{}\".format(snum))\n",
        "  \n",
        "  #here is where we start running the commands\n",
        "  res = os.system(cmd_wget)\n",
        "  if res != 0:\n",
        "    print(\"error: \", res, \"with downloading\", ii)\n",
        "  \n",
        "  print(\"moving file and unzipping file from year 20{}\".format(snum))\n",
        "  \n",
        "  res = os.system(cmd_unzip)\n",
        "  if res != 0:\n",
        "    print(\"error: \", res, \"with unzipping\", ii)\n",
        "    \n",
        "  print(\"removing zip file from year 20{}\".format(snum))\n",
        "  \n",
        "  res = os.system(cmd_rm)\n",
        "  if res != 0:\n",
        "    print(\"error: \", res, \"with removing\", ii)"
      ],
      "execution_count": 21,
      "outputs": [
        {
          "output_type": "stream",
          "text": [
            "unzip zbp10detail.zip -d drive/My\\ Drive/test_dir/zbp\n",
            "rm zbp10detail.zip \n",
            "downloading year 2010\n",
            "moving file and unzipping file from year 2010\n",
            "removing zip file from year 2010\n",
            "unzip zbp11detail.zip -d drive/My\\ Drive/test_dir/zbp\n",
            "rm zbp11detail.zip \n",
            "downloading year 2011\n",
            "moving file and unzipping file from year 2011\n",
            "removing zip file from year 2011\n",
            "unzip zbp12detail.zip -d drive/My\\ Drive/test_dir/zbp\n",
            "rm zbp12detail.zip \n",
            "downloading year 2012\n",
            "moving file and unzipping file from year 2012\n",
            "removing zip file from year 2012\n",
            "unzip zbp13detail.zip -d drive/My\\ Drive/test_dir/zbp\n",
            "rm zbp13detail.zip \n",
            "downloading year 2013\n",
            "moving file and unzipping file from year 2013\n",
            "removing zip file from year 2013\n",
            "unzip zbp14detail.zip -d drive/My\\ Drive/test_dir/zbp\n",
            "rm zbp14detail.zip \n",
            "downloading year 2014\n",
            "moving file and unzipping file from year 2014\n",
            "removing zip file from year 2014\n"
          ],
          "name": "stdout"
        }
      ]
    },
    {
      "cell_type": "code",
      "metadata": {
        "id": "u4JebFSeZTZc",
        "colab_type": "code",
        "outputId": "d46b6c43-84d2-41c5-d36f-2c1f540d0b83",
        "colab": {
          "base_uri": "https://localhost:8080/",
          "height": 52
        }
      },
      "source": [
        "ls drive/My\\ Drive/test_dir/zbp"
      ],
      "execution_count": 22,
      "outputs": [
        {
          "output_type": "stream",
          "text": [
            "zbp10detail.txt  zbp12detail.txt  zbp14detail.txt\n",
            "zbp11detail.txt  zbp13detail.txt\n"
          ],
          "name": "stdout"
        }
      ]
    }
  ]
}