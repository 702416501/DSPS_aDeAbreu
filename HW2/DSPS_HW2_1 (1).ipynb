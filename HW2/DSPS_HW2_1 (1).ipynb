{
  "nbformat": 4,
  "nbformat_minor": 0,
  "metadata": {
    "colab": {
      "name": "DSPS_HW2_1",
      "version": "0.3.2",
      "provenance": []
    },
    "kernelspec": {
      "name": "python3",
      "display_name": "Python 3"
    }
  },
  "cells": [
    {
      "cell_type": "code",
      "metadata": {
        "id": "FOS4sLrFNkr4",
        "colab_type": "code",
        "outputId": "7f7d8bd1-2ed4-4caa-a2fc-7f29b06b86d5",
        "colab": {
          "base_uri": "https://localhost:8080/",
          "height": 35
        }
      },
      "source": [
        "#Homework 2-1 Allie DeAbreu\n",
        "\n",
        "from __future__ import print_function, division\n",
        "import numpy as np\n",
        "import scipy as sp\n",
        "from scipy import stats\n",
        "import pylab as pl\n",
        "%pylab inline\n",
        "pl.style.use(\"https://raw.githubusercontent.com/fedhere/DSPS/master/fbb.mplstyle\")"
      ],
      "execution_count": 0,
      "outputs": [
        {
          "output_type": "stream",
          "text": [
            "Populating the interactive namespace from numpy and matplotlib\n"
          ],
          "name": "stdout"
        }
      ]
    },
    {
      "cell_type": "markdown",
      "metadata": {
        "id": "HCLSW3ljN3ri",
        "colab_type": "text"
      },
      "source": [
        "#1 Label the axis in the plot"
      ]
    },
    {
      "cell_type": "code",
      "metadata": {
        "id": "ItbYocr7N8a3",
        "colab_type": "code",
        "outputId": "918b614e-b0de-4572-e989-59b29e60d667",
        "colab": {
          "base_uri": "https://localhost:8080/",
          "height": 304
        }
      },
      "source": [
        "np.random.randn(123)\n",
        "fig, ax = pl.subplots()\n",
        "for a in [0.2, 0.6, 1.0]:\n",
        "    ax.hist(sp.stats.chi.rvs(df=3, scale=a, size=1000), # could as well be sp.stats.maxwell.rvs(scale=a, size=1000)\n",
        "          bins=np.arange(0,5,0.1), alpha=0.7,\n",
        "       label=\"a = %.1f\"%a);\n",
        "\n",
        "pl.legend();\n",
        "pl.xlabel('Molecular speed (m/s)')\n",
        "pl.ylabel('Number of molecules')"
      ],
      "execution_count": 0,
      "outputs": [
        {
          "output_type": "execute_result",
          "data": {
            "text/plain": [
              "Text(0, 0.5, 'Number of molecules')"
            ]
          },
          "metadata": {
            "tags": []
          },
          "execution_count": 3
        },
        {
          "output_type": "display_data",
          "data": {
            "image/png": "[encoded data removed]",
            "text/plain": [
              "<Figure size 432x288 with 1 Axes>"
            ]
          },
          "metadata": {
            "tags": []
          }
        }
      ]
    },
    {
      "cell_type": "markdown",
      "metadata": {
        "id": "9JNr4cgNRk0f",
        "colab_type": "text"
      },
      "source": [
        "#2 Which is correct"
      ]
    },
    {
      "cell_type": "markdown",
      "metadata": {
        "id": "FQx9ftbcRpZF",
        "colab_type": "text"
      },
      "source": [
        "**Alpha is proportional to sqrt[T].** As tempurature increases molecules are able to experience higher speeds. The legend indicates that the higher the alpha value is the higher speeds the molecules have the chance to experience. Therefore, alpha must be proprtional to sqrt[T], so that alpha and tempurature will both increase. \n"
      ]
    },
    {
      "cell_type": "markdown",
      "metadata": {
        "id": "hh1gAuZXSB0z",
        "colab_type": "text"
      },
      "source": [
        "#3 Mean of all three distributions"
      ]
    },
    {
      "cell_type": "code",
      "metadata": {
        "id": "h6JkRylZSBMi",
        "colab_type": "code",
        "outputId": "9f876835-ad92-40ff-d702-f56d8d2409aa",
        "colab": {
          "base_uri": "https://localhost:8080/",
          "height": 35
        }
      },
      "source": [
        "(sqrt(2)*((sp.special.gamma((4)/2))/(sp.special.gamma(3/2))))*.2\n"
      ],
      "execution_count": 0,
      "outputs": [
        {
          "output_type": "execute_result",
          "data": {
            "text/plain": [
              "0.3191538243211462"
            ]
          },
          "metadata": {
            "tags": []
          },
          "execution_count": 6
        }
      ]
    },
    {
      "cell_type": "code",
      "metadata": {
        "id": "hLDdCaX3S0ua",
        "colab_type": "code",
        "outputId": "d660d05f-2ab2-4a7a-e653-4882f646a244",
        "colab": {
          "base_uri": "https://localhost:8080/",
          "height": 35
        }
      },
      "source": [
        "(sqrt(2)*((sp.special.gamma((4)/2))/(sp.special.gamma(3/2))))*.6"
      ],
      "execution_count": 0,
      "outputs": [
        {
          "output_type": "execute_result",
          "data": {
            "text/plain": [
              "0.9574614729634384"
            ]
          },
          "metadata": {
            "tags": []
          },
          "execution_count": 5
        }
      ]
    },
    {
      "cell_type": "code",
      "metadata": {
        "id": "qx8Q2D6vS7an",
        "colab_type": "code",
        "outputId": "7666bfe3-c50c-462f-b798-ec07d05ca081",
        "colab": {
          "base_uri": "https://localhost:8080/",
          "height": 35
        }
      },
      "source": [
        "(sqrt(2)*((sp.special.gamma((4)/2))/(sp.special.gamma(3/2))))*1\n"
      ],
      "execution_count": 0,
      "outputs": [
        {
          "output_type": "execute_result",
          "data": {
            "text/plain": [
              "1.5957691216057308"
            ]
          },
          "metadata": {
            "tags": []
          },
          "execution_count": 7
        }
      ]
    },
    {
      "cell_type": "markdown",
      "metadata": {
        "id": "CoT7SdfwTmc6",
        "colab_type": "text"
      },
      "source": [
        "The means of all three distributions is the the most probable speed for their respective alpha value, because each ofthe distributions have a uniform spread, therefore the meaan is the most probable value."
      ]
    }
  ]
}