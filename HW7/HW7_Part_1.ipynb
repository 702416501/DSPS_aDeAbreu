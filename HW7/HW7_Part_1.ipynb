{
  "nbformat": 4,
  "nbformat_minor": 0,
  "metadata": {
    "colab": {
      "name": "HW7 Part 1",
      "provenance": [],
      "collapsed_sections": []
    },
    "kernelspec": {
      "name": "python3",
      "display_name": "Python 3"
    }
  },
  "cells": [
    {
      "cell_type": "markdown",
      "metadata": {
        "id": "WAj0ohqHCdHn",
        "colab_type": "text"
      },
      "source": [
        "# Written by FBB for DSPS 2019\n",
        "# HW 7"
      ]
    },
    {
      "cell_type": "markdown",
      "metadata": {
        "id": "_uHe9QuoL3-w",
        "colab_type": "text"
      },
      "source": [
        "# **PART** I Due Tuesday 10/22 at midnight"
      ]
    },
    {
      "cell_type": "markdown",
      "metadata": {
        "id": "VuBno3grNpTJ",
        "colab_type": "text"
      },
      "source": [
        "Read in the abstract, first paragaph of the main text and page three of [Nam et al. 2018](https://arxiv.org/pdf/1811.10212.pdf) which should be sufficient to give you an idea of the problem context., "
      ]
    },
    {
      "cell_type": "markdown",
      "metadata": {
        "id": "PQ2mJaQ6PjTK",
        "colab_type": "text"
      },
      "source": [
        "# 1 Get the data \n",
        "from the Harvard Dataverse open data repository (well curated and organized open data repositories are a blessing in science and data science - they enable reproducibility! - This one is a great one.)\n",
        "\n",
        "Use ```wget``` and the link in the paper (page 17). YOu want the data for Fig 1 insert G.\n"
      ]
    },
    {
      "cell_type": "code",
      "metadata": {
        "id": "FV-g6LYIjQYA",
        "colab_type": "code",
        "outputId": "c45792d6-e7e9-49b0-e7eb-98be5ab82c3c",
        "colab": {
          "base_uri": "https://localhost:8080/",
          "height": 35
        }
      },
      "source": [
        "from google.colab import drive \n",
        "drive.mount(\"/content/drive\")"
      ],
      "execution_count": 3,
      "outputs": [
        {
          "output_type": "stream",
          "text": [
            "Drive already mounted at /content/drive; to attempt to forcibly remount, call drive.mount(\"/content/drive\", force_remount=True).\n"
          ],
          "name": "stdout"
        }
      ]
    },
    {
      "cell_type": "code",
      "metadata": {
        "id": "UwxslMn9lr9W",
        "colab_type": "code",
        "colab": {}
      },
      "source": [
        "import numpy as np\n",
        "import pandas as pd\n",
        "import matplotlib.pyplot as pl\n",
        "import scipy as sp\n",
        "from scipy import stats\n",
        "import statsmodels.api as sm\n",
        "from statsmodels import graphics\n",
        "from statsmodels.formula import api as smf"
      ],
      "execution_count": 0,
      "outputs": []
    },
    {
      "cell_type": "code",
      "metadata": {
        "id": "pxMYLKeMDP-c",
        "colab_type": "code",
        "colab": {}
      },
      "source": [
        "#!wget https://dataverse.harvard.edu/api/access/datafile/:persistentId?persistentId=doi:10.7910/DVN/9QKJU2/WOMIZQ"
      ],
      "execution_count": 0,
      "outputs": []
    },
    {
      "cell_type": "code",
      "metadata": {
        "id": "Mq-VSUgMlM1v",
        "colab_type": "code",
        "colab": {}
      },
      "source": [
        "#mv :persistentId?persistentId=doi:10.7910%2FDVN%2F9QKJU2%2FWOMIZQ \"drive/My Drive/dsps\""
      ],
      "execution_count": 0,
      "outputs": []
    },
    {
      "cell_type": "code",
      "metadata": {
        "id": "ysQnIoOBmDYO",
        "colab_type": "code",
        "colab": {}
      },
      "source": [
        "#cd \"drive/My Drive/dsps\""
      ],
      "execution_count": 0,
      "outputs": []
    },
    {
      "cell_type": "code",
      "metadata": {
        "id": "d-VTLkpRmF1d",
        "colab_type": "code",
        "colab": {}
      },
      "source": [
        "#ls"
      ],
      "execution_count": 0,
      "outputs": []
    },
    {
      "cell_type": "code",
      "metadata": {
        "id": "GRzKCXgjlSrs",
        "colab_type": "code",
        "colab": {}
      },
      "source": [
        "#mv ':persistentId?persistentId=doi:10.7910%2FDVN%2F9QKJU2%2FWOMIZQ' fig1datag.txt"
      ],
      "execution_count": 0,
      "outputs": []
    },
    {
      "cell_type": "code",
      "metadata": {
        "id": "MQul0qXpmOry",
        "colab_type": "code",
        "colab": {}
      },
      "source": [
        "#ls\n"
      ],
      "execution_count": 0,
      "outputs": []
    },
    {
      "cell_type": "code",
      "metadata": {
        "id": "pnZrpKVulncA",
        "colab_type": "code",
        "colab": {}
      },
      "source": [
        "nam18 = pd.read_csv(\"drive/My Drive/dsps/fig1datag.txt\",sep = '\\t', header = None)\n"
      ],
      "execution_count": 0,
      "outputs": []
    },
    {
      "cell_type": "code",
      "metadata": {
        "id": "w-QCp-mnQ-HQ",
        "colab_type": "code",
        "outputId": "e5e76e69-0644-4ed8-9902-a5631cd5c0fb",
        "colab": {
          "base_uri": "https://localhost:8080/",
          "height": 202
        }
      },
      "source": [
        "\n",
        "nam18.head()"
      ],
      "execution_count": 11,
      "outputs": [
        {
          "output_type": "execute_result",
          "data": {
            "text/html": [
              "<div>\n",
              "<style scoped>\n",
              "    .dataframe tbody tr th:only-of-type {\n",
              "        vertical-align: middle;\n",
              "    }\n",
              "\n",
              "    .dataframe tbody tr th {\n",
              "        vertical-align: top;\n",
              "    }\n",
              "\n",
              "    .dataframe thead th {\n",
              "        text-align: right;\n",
              "    }\n",
              "</style>\n",
              "<table border=\"1\" class=\"dataframe\">\n",
              "  <thead>\n",
              "    <tr style=\"text-align: right;\">\n",
              "      <th></th>\n",
              "      <th>0</th>\n",
              "      <th>1</th>\n",
              "      <th>2</th>\n",
              "      <th>3</th>\n",
              "      <th>4</th>\n",
              "      <th>5</th>\n",
              "      <th>6</th>\n",
              "      <th>7</th>\n",
              "      <th>8</th>\n",
              "      <th>9</th>\n",
              "      <th>10</th>\n",
              "    </tr>\n",
              "  </thead>\n",
              "  <tbody>\n",
              "    <tr>\n",
              "      <th>0</th>\n",
              "      <td>0.247</td>\n",
              "      <td>0.000000</td>\n",
              "      <td>0.114</td>\n",
              "      <td>--</td>\n",
              "      <td>1.998</td>\n",
              "      <td>-0.6682</td>\n",
              "      <td>0.236</td>\n",
              "      <td>--</td>\n",
              "      <td>NaN</td>\n",
              "      <td>0.0</td>\n",
              "      <td>0.000000</td>\n",
              "    </tr>\n",
              "    <tr>\n",
              "      <th>1</th>\n",
              "      <td>0.270</td>\n",
              "      <td>0.264431</td>\n",
              "      <td>0.291</td>\n",
              "      <td>--</td>\n",
              "      <td>3.008</td>\n",
              "      <td>0.0000</td>\n",
              "      <td>1.640</td>\n",
              "      <td>0</td>\n",
              "      <td>NaN</td>\n",
              "      <td>1.0</td>\n",
              "      <td>0.000163</td>\n",
              "    </tr>\n",
              "    <tr>\n",
              "      <th>2</th>\n",
              "      <td>0.290</td>\n",
              "      <td>0.247896</td>\n",
              "      <td>0.290</td>\n",
              "      <td>--</td>\n",
              "      <td>4.013</td>\n",
              "      <td>1.1170</td>\n",
              "      <td>2.500</td>\n",
              "      <td>0.2</td>\n",
              "      <td>NaN</td>\n",
              "      <td>1.5</td>\n",
              "      <td>0.007934</td>\n",
              "    </tr>\n",
              "    <tr>\n",
              "      <th>3</th>\n",
              "      <td>0.330</td>\n",
              "      <td>0.232262</td>\n",
              "      <td>0.330</td>\n",
              "      <td>--</td>\n",
              "      <td>5.006</td>\n",
              "      <td>2.4760</td>\n",
              "      <td>3.999</td>\n",
              "      <td>1.538</td>\n",
              "      <td>NaN</td>\n",
              "      <td>2.0</td>\n",
              "      <td>0.058189</td>\n",
              "    </tr>\n",
              "    <tr>\n",
              "      <th>4</th>\n",
              "      <td>0.379</td>\n",
              "      <td>0.233420</td>\n",
              "      <td>0.380</td>\n",
              "      <td>--</td>\n",
              "      <td>6.015</td>\n",
              "      <td>4.4130</td>\n",
              "      <td>5.000</td>\n",
              "      <td>2.866</td>\n",
              "      <td>NaN</td>\n",
              "      <td>2.5</td>\n",
              "      <td>0.198115</td>\n",
              "    </tr>\n",
              "  </tbody>\n",
              "</table>\n",
              "</div>"
            ],
            "text/plain": [
              "      0         1      2   3      4       5      6      7   8    9         10\n",
              "0  0.247  0.000000  0.114  --  1.998 -0.6682  0.236     -- NaN  0.0  0.000000\n",
              "1  0.270  0.264431  0.291  --  3.008  0.0000  1.640      0 NaN  1.0  0.000163\n",
              "2  0.290  0.247896  0.290  --  4.013  1.1170  2.500    0.2 NaN  1.5  0.007934\n",
              "3  0.330  0.232262  0.330  --  5.006  2.4760  3.999  1.538 NaN  2.0  0.058189\n",
              "4  0.379  0.233420  0.380  --  6.015  4.4130  5.000  2.866 NaN  2.5  0.198115"
            ]
          },
          "metadata": {
            "tags": []
          },
          "execution_count": 11
        }
      ]
    },
    {
      "cell_type": "markdown",
      "metadata": {
        "id": "rzcxyFtgHoGi",
        "colab_type": "text"
      },
      "source": [
        "# Data Wrangling and visualization\n",
        "\n"
      ]
    },
    {
      "cell_type": "markdown",
      "metadata": {
        "id": "FcDCruzW6Aji",
        "colab_type": "text"
      },
      "source": [
        "Write *a single line of code* that does the following (in whichever order you want):\n",
        "\n",
        "- removes all columns you do not need. \n",
        "- removes Nan values that appear in the relevant columns.\n",
        "- renames the columns according to the notation on in the paper figure (Fig 1 insert G)\n",
        "\n",
        "Writing this in a single line of code is the \"pythonic\" way to do it - meaning its in the conding style of the language. You can do it by concatenating methods that do wach step, like ```df.method1(...).method2(...).method3(...)```\n",
        "and as long as each method returns a dataframe another method can be appended. The code will be run left to right with the next method running on the dataframe returned by the previous one.\n",
        "\n",
        "Note that you can use latex notation for the lables, e.g.:\n",
        "```str=r\"\\Delta^2\"```\n",
        "would look like what you wrote when you look at the column names, but would look like \n",
        "\n",
        "$\\Delta^2$ \n",
        "\n",
        "in the plot label if plotting with df.plot()\n",
        "\n"
      ]
    },
    {
      "cell_type": "code",
      "metadata": {
        "id": "GBzhLtD5Q2-I",
        "colab_type": "code",
        "outputId": "e3c68fcc-88c7-4ed7-8134-569301aa2cc6",
        "colab": {
          "base_uri": "https://localhost:8080/",
          "height": 202
        }
      },
      "source": [
        "nam18reduced = ((nam18[[0, 1]]).rename(columns={0: 'Temperature', 1 : 'n'})).dropna()\n",
        "nam18reduced.head()"
      ],
      "execution_count": 12,
      "outputs": [
        {
          "output_type": "execute_result",
          "data": {
            "text/html": [
              "<div>\n",
              "<style scoped>\n",
              "    .dataframe tbody tr th:only-of-type {\n",
              "        vertical-align: middle;\n",
              "    }\n",
              "\n",
              "    .dataframe tbody tr th {\n",
              "        vertical-align: top;\n",
              "    }\n",
              "\n",
              "    .dataframe thead th {\n",
              "        text-align: right;\n",
              "    }\n",
              "</style>\n",
              "<table border=\"1\" class=\"dataframe\">\n",
              "  <thead>\n",
              "    <tr style=\"text-align: right;\">\n",
              "      <th></th>\n",
              "      <th>Temperature</th>\n",
              "      <th>n</th>\n",
              "    </tr>\n",
              "  </thead>\n",
              "  <tbody>\n",
              "    <tr>\n",
              "      <th>0</th>\n",
              "      <td>0.247</td>\n",
              "      <td>0.000000</td>\n",
              "    </tr>\n",
              "    <tr>\n",
              "      <th>1</th>\n",
              "      <td>0.270</td>\n",
              "      <td>0.264431</td>\n",
              "    </tr>\n",
              "    <tr>\n",
              "      <th>2</th>\n",
              "      <td>0.290</td>\n",
              "      <td>0.247896</td>\n",
              "    </tr>\n",
              "    <tr>\n",
              "      <th>3</th>\n",
              "      <td>0.330</td>\n",
              "      <td>0.232262</td>\n",
              "    </tr>\n",
              "    <tr>\n",
              "      <th>4</th>\n",
              "      <td>0.379</td>\n",
              "      <td>0.233420</td>\n",
              "    </tr>\n",
              "  </tbody>\n",
              "</table>\n",
              "</div>"
            ],
            "text/plain": [
              "   Temperature         n\n",
              "0        0.247  0.000000\n",
              "1        0.270  0.264431\n",
              "2        0.290  0.247896\n",
              "3        0.330  0.232262\n",
              "4        0.379  0.233420"
            ]
          },
          "metadata": {
            "tags": []
          },
          "execution_count": 12
        }
      ]
    },
    {
      "cell_type": "code",
      "metadata": {
        "id": "O5xFpmHDpf1F",
        "colab_type": "code",
        "outputId": "87cb965a-ed8a-4ef7-cc8d-38268c103af9",
        "colab": {
          "base_uri": "https://localhost:8080/",
          "height": 379
        }
      },
      "source": [
        "pl.scatter(nam18reduced['Temperature'], nam18reduced['n'])\n",
        "pl.xlabel('Temperature(K)')\n",
        "pl.ylabel('n*(10^9(cm^-2))')\n",
        "\n",
        "figureLabel = \"Figure 1: Scatter plot of the desisty of electrons in 10^9cm^2 to the temperature in Kelvin.\"\n",
        "pl.figtext(0.5, -0.2, figureLabel, ha = 'center', fontsize = 12, wrap = True)\n",
        "pl.title('Conduction Band Electron Density')"
      ],
      "execution_count": 40,
      "outputs": [
        {
          "output_type": "execute_result",
          "data": {
            "text/plain": [
              "Text(0.5, 1.0, 'Conduction Band Electron Density')"
            ]
          },
          "metadata": {
            "tags": []
          },
          "execution_count": 40
        },
        {
          "output_type": "display_data",
          "data": {
            "image/png": "[encoded data removed]",
            "text/plain": [
              "<Figure size 432x288 with 1 Axes>"
            ]
          },
          "metadata": {
            "tags": []
          }
        }
      ]
    },
    {
      "cell_type": "markdown",
      "metadata": {
        "id": "E1c4comIl6ZL",
        "colab_type": "text"
      },
      "source": [
        ""
      ]
    },
    {
      "cell_type": "markdown",
      "metadata": {
        "id": "dVrx4G3J9m4j",
        "colab_type": "text"
      },
      "source": [
        "# 677 and Extra Credit"
      ]
    },
    {
      "cell_type": "markdown",
      "metadata": {
        "id": "xL9pNhLA7a4j",
        "colab_type": "text"
      },
      "source": [
        "Create a function that generates a polynomial of any degree.\n",
        "\n",
        "Functions can take variable number of arguments if passed as a tuple with a * (this is a pointer. If you coded in C you know this syntax.)\n",
        "\n",
        "What I mean by that is that I can create a function as:\n"
      ]
    },
    {
      "cell_type": "code",
      "metadata": {
        "id": "qhIfXtGWlcFJ",
        "colab_type": "code",
        "colab": {}
      },
      "source": [
        "def polynom(x, *n):\n",
        "  '''\n",
        "  paramters:\n",
        "  x-> x data values\n",
        "  *n-> pointer for the degree of freedom\n",
        " \n",
        "  return:\n",
        "  some_polynom-> desired polynomial with ndegrees of freedom fit to the data\n",
        "  '''\n",
        "  some_polynom = sum([p*(x**i) for i, p in enumerate(n)])\n",
        "  return(some_polynom)"
      ],
      "execution_count": 0,
      "outputs": []
    },
    {
      "cell_type": "markdown",
      "metadata": {
        "id": "WiupDvwP8uXj",
        "colab_type": "text"
      },
      "source": [
        "So based on this create a function that takes the _x_ vector (exogenous variable) and a pointer to n coefficients. Those will be the parameters of the polynomial and it will be a list of 2 elements for a line (slope and intercept), of 3 elements for a second degree polynomial, 4 for a third etc etc. Fit this with scipy.optimize.curve_fit fitting a polynomial of 1st (line), 2nd (parabola), and 3rd degree."
      ]
    },
    {
      "cell_type": "markdown",
      "metadata": {
        "id": "gTWLH0t7H5Mr",
        "colab_type": "text"
      },
      "source": [
        "# 3 Model"
      ]
    },
    {
      "cell_type": "markdown",
      "metadata": {
        "id": "U5xlNzzI_P7S",
        "colab_type": "text"
      },
      "source": [
        "Use the statsmodels.formula.api package to run Ordinary Linear Fits (ols) and fit a line, a second degree polynomial and a third degree polynomial to the data. For each model extract the log-likelihood and print it out explicitally for each mode. How do the lof-likelihoods compare for the three models? does it make sense? explain. Just by reading the log-likelihood value can you say which model is better? Discuss\n",
        "\n",
        "Note: if you followed the instructions and renamed variables as I asked you to above, you will encounter an issue here, Although pandas know how to render the string in the plot, statsmodels has issues with parsing a complex string with characters such as \"(\" or latex inputs."
      ]
    },
    {
      "cell_type": "code",
      "metadata": {
        "id": "VFqfkEi7KxE6",
        "colab_type": "code",
        "outputId": "1b40d640-a1ae-42c9-93cc-77460b9c1d22",
        "colab": {
          "base_uri": "https://localhost:8080/",
          "height": 202
        }
      },
      "source": [
        "t = 'Temperature'\n",
        "n = 'n'\n",
        "nam18reduced['logT'] = np.log10(nam18reduced[[t]])\n",
        "nam18reduced.head()"
      ],
      "execution_count": 17,
      "outputs": [
        {
          "output_type": "execute_result",
          "data": {
            "text/html": [
              "<div>\n",
              "<style scoped>\n",
              "    .dataframe tbody tr th:only-of-type {\n",
              "        vertical-align: middle;\n",
              "    }\n",
              "\n",
              "    .dataframe tbody tr th {\n",
              "        vertical-align: top;\n",
              "    }\n",
              "\n",
              "    .dataframe thead th {\n",
              "        text-align: right;\n",
              "    }\n",
              "</style>\n",
              "<table border=\"1\" class=\"dataframe\">\n",
              "  <thead>\n",
              "    <tr style=\"text-align: right;\">\n",
              "      <th></th>\n",
              "      <th>Temperature</th>\n",
              "      <th>n</th>\n",
              "      <th>logT</th>\n",
              "    </tr>\n",
              "  </thead>\n",
              "  <tbody>\n",
              "    <tr>\n",
              "      <th>0</th>\n",
              "      <td>0.247</td>\n",
              "      <td>0.000000</td>\n",
              "      <td>-0.607303</td>\n",
              "    </tr>\n",
              "    <tr>\n",
              "      <th>1</th>\n",
              "      <td>0.270</td>\n",
              "      <td>0.264431</td>\n",
              "      <td>-0.568636</td>\n",
              "    </tr>\n",
              "    <tr>\n",
              "      <th>2</th>\n",
              "      <td>0.290</td>\n",
              "      <td>0.247896</td>\n",
              "      <td>-0.537602</td>\n",
              "    </tr>\n",
              "    <tr>\n",
              "      <th>3</th>\n",
              "      <td>0.330</td>\n",
              "      <td>0.232262</td>\n",
              "      <td>-0.481486</td>\n",
              "    </tr>\n",
              "    <tr>\n",
              "      <th>4</th>\n",
              "      <td>0.379</td>\n",
              "      <td>0.233420</td>\n",
              "      <td>-0.421361</td>\n",
              "    </tr>\n",
              "  </tbody>\n",
              "</table>\n",
              "</div>"
            ],
            "text/plain": [
              "   Temperature         n      logT\n",
              "0        0.247  0.000000 -0.607303\n",
              "1        0.270  0.264431 -0.568636\n",
              "2        0.290  0.247896 -0.537602\n",
              "3        0.330  0.232262 -0.481486\n",
              "4        0.379  0.233420 -0.421361"
            ]
          },
          "metadata": {
            "tags": []
          },
          "execution_count": 17
        }
      ]
    },
    {
      "cell_type": "code",
      "metadata": {
        "colab_type": "code",
        "id": "JS07LbIZLCUn",
        "outputId": "28b9032a-e983-4e9a-8e62-df1f005277b5",
        "colab": {
          "base_uri": "https://localhost:8080/",
          "height": 441
        }
      },
      "source": [
        "model1 = smf.ols('n ~ Temperature', data = nam18reduced).fit()\n",
        "model1.summary()"
      ],
      "execution_count": 18,
      "outputs": [
        {
          "output_type": "execute_result",
          "data": {
            "text/html": [
              "<table class=\"simpletable\">\n",
              "<caption>OLS Regression Results</caption>\n",
              "<tr>\n",
              "  <th>Dep. Variable:</th>            <td>n</td>        <th>  R-squared:         </th> <td>   0.982</td>\n",
              "</tr>\n",
              "<tr>\n",
              "  <th>Model:</th>                   <td>OLS</td>       <th>  Adj. R-squared:    </th> <td>   0.982</td>\n",
              "</tr>\n",
              "<tr>\n",
              "  <th>Method:</th>             <td>Least Squares</td>  <th>  F-statistic:       </th> <td>   1813.</td>\n",
              "</tr>\n",
              "<tr>\n",
              "  <th>Date:</th>             <td>Wed, 23 Oct 2019</td> <th>  Prob (F-statistic):</th> <td>2.03e-30</td>\n",
              "</tr>\n",
              "<tr>\n",
              "  <th>Time:</th>                 <td>02:30:45</td>     <th>  Log-Likelihood:    </th> <td> -78.878</td>\n",
              "</tr>\n",
              "<tr>\n",
              "  <th>No. Observations:</th>      <td>    35</td>      <th>  AIC:               </th> <td>   161.8</td>\n",
              "</tr>\n",
              "<tr>\n",
              "  <th>Df Residuals:</th>          <td>    33</td>      <th>  BIC:               </th> <td>   164.9</td>\n",
              "</tr>\n",
              "<tr>\n",
              "  <th>Df Model:</th>              <td>     1</td>      <th>                     </th>     <td> </td>   \n",
              "</tr>\n",
              "<tr>\n",
              "  <th>Covariance Type:</th>      <td>nonrobust</td>    <th>                     </th>     <td> </td>   \n",
              "</tr>\n",
              "</table>\n",
              "<table class=\"simpletable\">\n",
              "<tr>\n",
              "       <td></td>          <th>coef</th>     <th>std err</th>      <th>t</th>      <th>P>|t|</th>  <th>[0.025</th>    <th>0.975]</th>  \n",
              "</tr>\n",
              "<tr>\n",
              "  <th>Intercept</th>   <td>   -1.8884</td> <td>    0.492</td> <td>   -3.841</td> <td> 0.001</td> <td>   -2.889</td> <td>   -0.888</td>\n",
              "</tr>\n",
              "<tr>\n",
              "  <th>Temperature</th> <td>    1.6176</td> <td>    0.038</td> <td>   42.577</td> <td> 0.000</td> <td>    1.540</td> <td>    1.695</td>\n",
              "</tr>\n",
              "</table>\n",
              "<table class=\"simpletable\">\n",
              "<tr>\n",
              "  <th>Omnibus:</th>       <td> 1.418</td> <th>  Durbin-Watson:     </th> <td>   0.845</td>\n",
              "</tr>\n",
              "<tr>\n",
              "  <th>Prob(Omnibus):</th> <td> 0.492</td> <th>  Jarque-Bera (JB):  </th> <td>   1.041</td>\n",
              "</tr>\n",
              "<tr>\n",
              "  <th>Skew:</th>          <td>-0.420</td> <th>  Prob(JB):          </th> <td>   0.594</td>\n",
              "</tr>\n",
              "<tr>\n",
              "  <th>Kurtosis:</th>      <td> 2.905</td> <th>  Cond. No.          </th> <td>    15.9</td>\n",
              "</tr>\n",
              "</table><br/><br/>Warnings:<br/>[1] Standard Errors assume that the covariance matrix of the errors is correctly specified."
            ],
            "text/plain": [
              "<class 'statsmodels.iolib.summary.Summary'>\n",
              "\"\"\"\n",
              "                            OLS Regression Results                            \n",
              "==============================================================================\n",
              "Dep. Variable:                      n   R-squared:                       0.982\n",
              "Model:                            OLS   Adj. R-squared:                  0.982\n",
              "Method:                 Least Squares   F-statistic:                     1813.\n",
              "Date:                Wed, 23 Oct 2019   Prob (F-statistic):           2.03e-30\n",
              "Time:                        02:30:45   Log-Likelihood:                -78.878\n",
              "No. Observations:                  35   AIC:                             161.8\n",
              "Df Residuals:                      33   BIC:                             164.9\n",
              "Df Model:                           1                                         \n",
              "Covariance Type:            nonrobust                                         \n",
              "===============================================================================\n",
              "                  coef    std err          t      P>|t|      [0.025      0.975]\n",
              "-------------------------------------------------------------------------------\n",
              "Intercept      -1.8884      0.492     -3.841      0.001      -2.889      -0.888\n",
              "Temperature     1.6176      0.038     42.577      0.000       1.540       1.695\n",
              "==============================================================================\n",
              "Omnibus:                        1.418   Durbin-Watson:                   0.845\n",
              "Prob(Omnibus):                  0.492   Jarque-Bera (JB):                1.041\n",
              "Skew:                          -0.420   Prob(JB):                        0.594\n",
              "Kurtosis:                       2.905   Cond. No.                         15.9\n",
              "==============================================================================\n",
              "\n",
              "Warnings:\n",
              "[1] Standard Errors assume that the covariance matrix of the errors is correctly specified.\n",
              "\"\"\""
            ]
          },
          "metadata": {
            "tags": []
          },
          "execution_count": 18
        }
      ]
    },
    {
      "cell_type": "code",
      "metadata": {
        "id": "7fLS62grLVb3",
        "colab_type": "code",
        "outputId": "0e2f6607-0d53-40ce-c6a1-250eb8c3e339",
        "colab": {
          "base_uri": "https://localhost:8080/",
          "height": 69
        }
      },
      "source": [
        "model1.params"
      ],
      "execution_count": 19,
      "outputs": [
        {
          "output_type": "execute_result",
          "data": {
            "text/plain": [
              "Intercept     -1.888445\n",
              "Temperature    1.617586\n",
              "dtype: float64"
            ]
          },
          "metadata": {
            "tags": []
          },
          "execution_count": 19
        }
      ]
    },
    {
      "cell_type": "code",
      "metadata": {
        "id": "vAS1Jv42Lb8O",
        "colab_type": "code",
        "outputId": "3378028c-c912-4bf7-c752-d90472e74fa0",
        "colab": {
          "base_uri": "https://localhost:8080/",
          "height": 35
        }
      },
      "source": [
        "model1.llf"
      ],
      "execution_count": 20,
      "outputs": [
        {
          "output_type": "execute_result",
          "data": {
            "text/plain": [
              "-78.87784843905396"
            ]
          },
          "metadata": {
            "tags": []
          },
          "execution_count": 20
        }
      ]
    },
    {
      "cell_type": "code",
      "metadata": {
        "id": "FKpOE-muLeif",
        "colab_type": "code",
        "outputId": "499f405b-5671-4783-ee5f-338a5fb11bbc",
        "colab": {
          "base_uri": "https://localhost:8080/",
          "height": 461
        }
      },
      "source": [
        "nam18reduced['square'] = nam18reduced.Temperature**2\n",
        "model2 = smf.ols('n ~ Temperature + square', data = nam18reduced).fit()\n",
        "model2.summary()"
      ],
      "execution_count": 21,
      "outputs": [
        {
          "output_type": "execute_result",
          "data": {
            "text/html": [
              "<table class=\"simpletable\">\n",
              "<caption>OLS Regression Results</caption>\n",
              "<tr>\n",
              "  <th>Dep. Variable:</th>            <td>n</td>        <th>  R-squared:         </th> <td>   0.982</td>\n",
              "</tr>\n",
              "<tr>\n",
              "  <th>Model:</th>                   <td>OLS</td>       <th>  Adj. R-squared:    </th> <td>   0.981</td>\n",
              "</tr>\n",
              "<tr>\n",
              "  <th>Method:</th>             <td>Least Squares</td>  <th>  F-statistic:       </th> <td>   879.5</td>\n",
              "</tr>\n",
              "<tr>\n",
              "  <th>Date:</th>             <td>Wed, 23 Oct 2019</td> <th>  Prob (F-statistic):</th> <td>1.08e-28</td>\n",
              "</tr>\n",
              "<tr>\n",
              "  <th>Time:</th>                 <td>02:30:45</td>     <th>  Log-Likelihood:    </th> <td> -78.866</td>\n",
              "</tr>\n",
              "<tr>\n",
              "  <th>No. Observations:</th>      <td>    35</td>      <th>  AIC:               </th> <td>   163.7</td>\n",
              "</tr>\n",
              "<tr>\n",
              "  <th>Df Residuals:</th>          <td>    32</td>      <th>  BIC:               </th> <td>   168.4</td>\n",
              "</tr>\n",
              "<tr>\n",
              "  <th>Df Model:</th>              <td>     2</td>      <th>                     </th>     <td> </td>   \n",
              "</tr>\n",
              "<tr>\n",
              "  <th>Covariance Type:</th>      <td>nonrobust</td>    <th>                     </th>     <td> </td>   \n",
              "</tr>\n",
              "</table>\n",
              "<table class=\"simpletable\">\n",
              "<tr>\n",
              "       <td></td>          <th>coef</th>     <th>std err</th>      <th>t</th>      <th>P>|t|</th>  <th>[0.025</th>    <th>0.975]</th>  \n",
              "</tr>\n",
              "<tr>\n",
              "  <th>Intercept</th>   <td>   -1.9344</td> <td>    0.592</td> <td>   -3.266</td> <td> 0.003</td> <td>   -3.141</td> <td>   -0.728</td>\n",
              "</tr>\n",
              "<tr>\n",
              "  <th>Temperature</th> <td>    1.6354</td> <td>    0.129</td> <td>   12.652</td> <td> 0.000</td> <td>    1.372</td> <td>    1.899</td>\n",
              "</tr>\n",
              "<tr>\n",
              "  <th>square</th>      <td>   -0.0005</td> <td>    0.004</td> <td>   -0.144</td> <td> 0.886</td> <td>   -0.008</td> <td>    0.007</td>\n",
              "</tr>\n",
              "</table>\n",
              "<table class=\"simpletable\">\n",
              "<tr>\n",
              "  <th>Omnibus:</th>       <td> 1.219</td> <th>  Durbin-Watson:     </th> <td>   0.835</td>\n",
              "</tr>\n",
              "<tr>\n",
              "  <th>Prob(Omnibus):</th> <td> 0.544</td> <th>  Jarque-Bera (JB):  </th> <td>   0.984</td>\n",
              "</tr>\n",
              "<tr>\n",
              "  <th>Skew:</th>          <td>-0.399</td> <th>  Prob(JB):          </th> <td>   0.611</td>\n",
              "</tr>\n",
              "<tr>\n",
              "  <th>Kurtosis:</th>      <td> 2.809</td> <th>  Cond. No.          </th> <td>    608.</td>\n",
              "</tr>\n",
              "</table><br/><br/>Warnings:<br/>[1] Standard Errors assume that the covariance matrix of the errors is correctly specified."
            ],
            "text/plain": [
              "<class 'statsmodels.iolib.summary.Summary'>\n",
              "\"\"\"\n",
              "                            OLS Regression Results                            \n",
              "==============================================================================\n",
              "Dep. Variable:                      n   R-squared:                       0.982\n",
              "Model:                            OLS   Adj. R-squared:                  0.981\n",
              "Method:                 Least Squares   F-statistic:                     879.5\n",
              "Date:                Wed, 23 Oct 2019   Prob (F-statistic):           1.08e-28\n",
              "Time:                        02:30:45   Log-Likelihood:                -78.866\n",
              "No. Observations:                  35   AIC:                             163.7\n",
              "Df Residuals:                      32   BIC:                             168.4\n",
              "Df Model:                           2                                         \n",
              "Covariance Type:            nonrobust                                         \n",
              "===============================================================================\n",
              "                  coef    std err          t      P>|t|      [0.025      0.975]\n",
              "-------------------------------------------------------------------------------\n",
              "Intercept      -1.9344      0.592     -3.266      0.003      -3.141      -0.728\n",
              "Temperature     1.6354      0.129     12.652      0.000       1.372       1.899\n",
              "square         -0.0005      0.004     -0.144      0.886      -0.008       0.007\n",
              "==============================================================================\n",
              "Omnibus:                        1.219   Durbin-Watson:                   0.835\n",
              "Prob(Omnibus):                  0.544   Jarque-Bera (JB):                0.984\n",
              "Skew:                          -0.399   Prob(JB):                        0.611\n",
              "Kurtosis:                       2.809   Cond. No.                         608.\n",
              "==============================================================================\n",
              "\n",
              "Warnings:\n",
              "[1] Standard Errors assume that the covariance matrix of the errors is correctly specified.\n",
              "\"\"\""
            ]
          },
          "metadata": {
            "tags": []
          },
          "execution_count": 21
        }
      ]
    },
    {
      "cell_type": "code",
      "metadata": {
        "id": "V6AGi-C2MMV8",
        "colab_type": "code",
        "outputId": "c9a43df2-82fe-41fd-f631-dcee83d0d002",
        "colab": {
          "base_uri": "https://localhost:8080/",
          "height": 87
        }
      },
      "source": [
        "model2.params"
      ],
      "execution_count": 22,
      "outputs": [
        {
          "output_type": "execute_result",
          "data": {
            "text/plain": [
              "Intercept     -1.934427\n",
              "Temperature    1.635370\n",
              "square        -0.000520\n",
              "dtype: float64"
            ]
          },
          "metadata": {
            "tags": []
          },
          "execution_count": 22
        }
      ]
    },
    {
      "cell_type": "code",
      "metadata": {
        "id": "yKwwKPvUMQEF",
        "colab_type": "code",
        "outputId": "83388ee3-f270-41fd-ec41-b9e9423e5769",
        "colab": {
          "base_uri": "https://localhost:8080/",
          "height": 517
        }
      },
      "source": [
        "nam18reduced['cube'] = nam18reduced.Temperature**3\n",
        "model3 = smf.ols('n ~ Temperature + square + cube', data = nam18reduced).fit()\n",
        "model3.summary()"
      ],
      "execution_count": 23,
      "outputs": [
        {
          "output_type": "execute_result",
          "data": {
            "text/html": [
              "<table class=\"simpletable\">\n",
              "<caption>OLS Regression Results</caption>\n",
              "<tr>\n",
              "  <th>Dep. Variable:</th>            <td>n</td>        <th>  R-squared:         </th> <td>   0.993</td>\n",
              "</tr>\n",
              "<tr>\n",
              "  <th>Model:</th>                   <td>OLS</td>       <th>  Adj. R-squared:    </th> <td>   0.992</td>\n",
              "</tr>\n",
              "<tr>\n",
              "  <th>Method:</th>             <td>Least Squares</td>  <th>  F-statistic:       </th> <td>   1433.</td>\n",
              "</tr>\n",
              "<tr>\n",
              "  <th>Date:</th>             <td>Wed, 23 Oct 2019</td> <th>  Prob (F-statistic):</th> <td>2.54e-33</td>\n",
              "</tr>\n",
              "<tr>\n",
              "  <th>Time:</th>                 <td>02:30:45</td>     <th>  Log-Likelihood:    </th> <td> -62.858</td>\n",
              "</tr>\n",
              "<tr>\n",
              "  <th>No. Observations:</th>      <td>    35</td>      <th>  AIC:               </th> <td>   133.7</td>\n",
              "</tr>\n",
              "<tr>\n",
              "  <th>Df Residuals:</th>          <td>    31</td>      <th>  BIC:               </th> <td>   139.9</td>\n",
              "</tr>\n",
              "<tr>\n",
              "  <th>Df Model:</th>              <td>     3</td>      <th>                     </th>     <td> </td>   \n",
              "</tr>\n",
              "<tr>\n",
              "  <th>Covariance Type:</th>      <td>nonrobust</td>    <th>                     </th>     <td> </td>   \n",
              "</tr>\n",
              "</table>\n",
              "<table class=\"simpletable\">\n",
              "<tr>\n",
              "       <td></td>          <th>coef</th>     <th>std err</th>      <th>t</th>      <th>P>|t|</th>  <th>[0.025</th>    <th>0.975]</th>  \n",
              "</tr>\n",
              "<tr>\n",
              "  <th>Intercept</th>   <td>   -0.4186</td> <td>    0.441</td> <td>   -0.949</td> <td> 0.350</td> <td>   -1.318</td> <td>    0.481</td>\n",
              "</tr>\n",
              "<tr>\n",
              "  <th>Temperature</th> <td>    0.5900</td> <td>    0.175</td> <td>    3.380</td> <td> 0.002</td> <td>    0.234</td> <td>    0.946</td>\n",
              "</tr>\n",
              "<tr>\n",
              "  <th>square</th>      <td>    0.0827</td> <td>    0.012</td> <td>    6.649</td> <td> 0.000</td> <td>    0.057</td> <td>    0.108</td>\n",
              "</tr>\n",
              "<tr>\n",
              "  <th>cube</th>        <td>   -0.0015</td> <td>    0.000</td> <td>   -6.811</td> <td> 0.000</td> <td>   -0.002</td> <td>   -0.001</td>\n",
              "</tr>\n",
              "</table>\n",
              "<table class=\"simpletable\">\n",
              "<tr>\n",
              "  <th>Omnibus:</th>       <td> 3.084</td> <th>  Durbin-Watson:     </th> <td>   1.326</td>\n",
              "</tr>\n",
              "<tr>\n",
              "  <th>Prob(Omnibus):</th> <td> 0.214</td> <th>  Jarque-Bera (JB):  </th> <td>   1.813</td>\n",
              "</tr>\n",
              "<tr>\n",
              "  <th>Skew:</th>          <td>-0.397</td> <th>  Prob(JB):          </th> <td>   0.404</td>\n",
              "</tr>\n",
              "<tr>\n",
              "  <th>Kurtosis:</th>      <td> 3.784</td> <th>  Cond. No.          </th> <td>2.64e+04</td>\n",
              "</tr>\n",
              "</table><br/><br/>Warnings:<br/>[1] Standard Errors assume that the covariance matrix of the errors is correctly specified.<br/>[2] The condition number is large, 2.64e+04. This might indicate that there are<br/>strong multicollinearity or other numerical problems."
            ],
            "text/plain": [
              "<class 'statsmodels.iolib.summary.Summary'>\n",
              "\"\"\"\n",
              "                            OLS Regression Results                            \n",
              "==============================================================================\n",
              "Dep. Variable:                      n   R-squared:                       0.993\n",
              "Model:                            OLS   Adj. R-squared:                  0.992\n",
              "Method:                 Least Squares   F-statistic:                     1433.\n",
              "Date:                Wed, 23 Oct 2019   Prob (F-statistic):           2.54e-33\n",
              "Time:                        02:30:45   Log-Likelihood:                -62.858\n",
              "No. Observations:                  35   AIC:                             133.7\n",
              "Df Residuals:                      31   BIC:                             139.9\n",
              "Df Model:                           3                                         \n",
              "Covariance Type:            nonrobust                                         \n",
              "===============================================================================\n",
              "                  coef    std err          t      P>|t|      [0.025      0.975]\n",
              "-------------------------------------------------------------------------------\n",
              "Intercept      -0.4186      0.441     -0.949      0.350      -1.318       0.481\n",
              "Temperature     0.5900      0.175      3.380      0.002       0.234       0.946\n",
              "square          0.0827      0.012      6.649      0.000       0.057       0.108\n",
              "cube           -0.0015      0.000     -6.811      0.000      -0.002      -0.001\n",
              "==============================================================================\n",
              "Omnibus:                        3.084   Durbin-Watson:                   1.326\n",
              "Prob(Omnibus):                  0.214   Jarque-Bera (JB):                1.813\n",
              "Skew:                          -0.397   Prob(JB):                        0.404\n",
              "Kurtosis:                       3.784   Cond. No.                     2.64e+04\n",
              "==============================================================================\n",
              "\n",
              "Warnings:\n",
              "[1] Standard Errors assume that the covariance matrix of the errors is correctly specified.\n",
              "[2] The condition number is large, 2.64e+04. This might indicate that there are\n",
              "strong multicollinearity or other numerical problems.\n",
              "\"\"\""
            ]
          },
          "metadata": {
            "tags": []
          },
          "execution_count": 23
        }
      ]
    },
    {
      "cell_type": "code",
      "metadata": {
        "id": "loo5Gxi8NSgn",
        "colab_type": "code",
        "colab": {
          "base_uri": "https://localhost:8080/",
          "height": 69
        },
        "outputId": "caacd955-e24a-44e0-9b28-2279f0c80ef3"
      },
      "source": [
        "print(\"The linear model's log-likelihood:\\t{:0.5f}\".format(model1.llf))\n",
        "print(\"The quadratic model's log-likelihood:\\t{:0.5f}\".format(model2.llf))\n",
        "print(\"The cubic model's log-likelihood:\\t{:0.5f}\".format(model3.llf))"
      ],
      "execution_count": 32,
      "outputs": [
        {
          "output_type": "stream",
          "text": [
            "The linear model's log-likelihood:\t-78.87785\n",
            "The quadratic model's log-likelihood:\t-78.86649\n",
            "The cubic model's log-likelihood:\t-62.85756\n"
          ],
          "name": "stdout"
        }
      ]
    },
    {
      "cell_type": "markdown",
      "metadata": {
        "id": "qEbpUunfCUX8",
        "colab_type": "text"
      },
      "source": [
        "# 4 plot the three models over the data. Use the polynomial function you created in the 667/EC if you did. \n",
        "Make sure you create a new x vector that samples densely the range spanned by the temperature variabla in your data, or your models, which should be plotted with lines, will look broken-up"
      ]
    },
    {
      "cell_type": "code",
      "metadata": {
        "colab_type": "code",
        "id": "hEAzd7q_t5BW",
        "colab": {}
      },
      "source": [
        "t = 'Temperature'\n",
        "n = 'n'\n",
        "lfopt, lfcov = sp.optimize.curve_fit(polynom, nam18reduced[t], nam18reduced[n], p0=[1,1])\n",
        "qfopt, qfcov = sp.optimize.curve_fit(polynom, nam18reduced[t], nam18reduced[n], p0=[1,1,1])\n",
        "cfopt, cfcov = sp.optimize.curve_fit(polynom, nam18reduced[t], nam18reduced[n], p0=[1,1,1,1])"
      ],
      "execution_count": 0,
      "outputs": []
    },
    {
      "cell_type": "code",
      "metadata": {
        "id": "RcZ9voRgsNV4",
        "colab_type": "code",
        "outputId": "0e6355dc-7d3f-49e8-974c-e7b5b9f6ac45",
        "colab": {
          "base_uri": "https://localhost:8080/",
          "height": 723
        }
      },
      "source": [
        "xrange = np.arange(0, 40, 0.5)\n",
        "\n",
        "pl.figure(figsize=(12, 9))\n",
        "pl.plot(nam18reduced[t] , nam18reduced[n], '.', ms=10, c = \"maroon\")\n",
        "pl.plot(xrange, polynom(xrange, *lfopt), c = 'k')\n",
        "pl.plot(xrange, polynom(xrange, *qfopt), c = 'yellow' )\n",
        "pl.plot(xrange, polynom(xrange, *cfopt), alpha = 0.75, c = 'navy')\n",
        "pl.legend(['n', 'dof = 1', 'dof = 2','dof = 3'])\n",
        "pl.title('Conduction Band Electron Density - 3 Curve Models')\n",
        "pl.xlabel('Temperature(K)')\n",
        "pl.ylabel('n*(10^9(cm^-2))')\n",
        "\n",
        "figure2Label = 'Figure 2: Scatter plot of the desisty of electrons in 10^9cm^2 to the temperature in Kelvin,  \\nwith the 3 models fit to the data. the legend indicates wich of the models is the linear, \\nquadratic, and cubic model. The linear quadratic models almost lay on top of each other'\n",
        "pl.figtext(0.525, -0.10, figure2Label, ha = 'center', fontsize = 12, wrap = True)\n"
      ],
      "execution_count": 48,
      "outputs": [
        {
          "output_type": "execute_result",
          "data": {
            "text/plain": [
              "Text(0.525, -0.1, 'Figure 2: Scatter plot of the desisty of electrons in 10^9cm^2 to the temperature in Kelvin,  \\nwith the 3 models fit to the data. the legend indicates wich of the models is the linear, \\nquadratic, and cubic model. The linear quadratic models almost lay on top of each other')"
            ]
          },
          "metadata": {
            "tags": []
          },
          "execution_count": 48
        },
        {
          "output_type": "display_data",
          "data": {
            "image/png": "[encoded data removed]",
            "text/plain": [
              "<Figure size 864x648 with 1 Axes>"
            ]
          },
          "metadata": {
            "tags": []
          }
        }
      ]
    },
    {
      "cell_type": "markdown",
      "metadata": {
        "id": "DGFhdzgDyhIR",
        "colab_type": "text"
      },
      "source": [
        "# 5 *formally* compare the models with a test that returns a p-value assessment (NHRT) to determine which model is best. Sort the models from the best one to the worse one."
      ]
    },
    {
      "cell_type": "markdown",
      "metadata": {
        "id": "6tiKBaSIgdB9",
        "colab_type": "text"
      },
      "source": [
        "Our null hypothesis is that **the simplest model is the best model**, while testing aconfidence level of p=0.05. Performing a Likelihood-Ratio test we determine:\n"
      ]
    },
    {
      "cell_type": "code",
      "metadata": {
        "id": "ClF3uEdXhWRH",
        "colab_type": "code",
        "colab": {
          "base_uri": "https://localhost:8080/",
          "height": 87
        },
        "outputId": "12580c42-447a-4afc-959c-1ceccf04a637"
      },
      "source": [
        "LRT_3_2 = model3.compare_lr_test(model2)\n",
        "LRT_3_1 = model3.compare_lr_test(model1)\n",
        "LRT_2_1 = model2.compare_lr_test(model1)\n",
        "\n",
        "print('Compare DOF  \\t Likelihood Ratio  \\t p-value  \\t Difference in DOF')\n",
        "print('2 & 3:\\t\\t', LRT_3_2, '\\n1 & 3:\\t\\t', LRT_3_1, '\\n1 & 2:\\t\\t', LRT_2_1)"
      ],
      "execution_count": 34,
      "outputs": [
        {
          "output_type": "stream",
          "text": [
            "Compare DOF  \t Likelihood Ratio  \t p-value  \t Difference in DOF\n",
            "2 & 3:\t\t (32.01784952536279, 1.5276246887173018e-08, 1.0) \n",
            "1 & 3:\t\t (32.040571530689235, 1.1027531159467018e-07, 2.0) \n",
            "1 & 2:\t\t (0.022722005326443195, 0.8801822372589625, 1.0)\n"
          ],
          "name": "stdout"
        }
      ]
    },
    {
      "cell_type": "code",
      "metadata": {
        "id": "tWDQXf53IwnE",
        "colab_type": "code",
        "outputId": "4769937b-5743-4a66-fabd-2f262b8f78ce",
        "colab": {
          "base_uri": "https://localhost:8080/",
          "height": 35
        }
      },
      "source": [
        "print(\"the best model is the the Cubic model\")"
      ],
      "execution_count": 35,
      "outputs": [
        {
          "output_type": "stream",
          "text": [
            "the best model is the the Cubic model\n"
          ],
          "name": "stdout"
        }
      ]
    },
    {
      "cell_type": "markdown",
      "metadata": {
        "id": "08OWyQHriwuS",
        "colab_type": "text"
      },
      "source": [
        "When comparing the cubic model to both the linear and quadratic models we find a p-value much less than p=0.05, meaning **there is evidence to reject the null hypothesis** that the simplest of the models are the best. When comparing the linear model to the quadratic model, we find a p-value much larger than p=0.5, meaning that **there is insufficient evidence to reject the null hypthesis** and therefore cannot say which of the linear or quadratic models is best.   "
      ]
    },
    {
      "cell_type": "markdown",
      "metadata": {
        "id": "6wLSOjS2Ddpf",
        "colab_type": "text"
      },
      "source": [
        "### Install emcee"
      ]
    },
    {
      "cell_type": "code",
      "metadata": {
        "id": "9-CdeZvv1A_3",
        "colab_type": "code",
        "outputId": "5b4f8c7f-ed29-4213-97e4-e9addf960ee8",
        "colab": {
          "base_uri": "https://localhost:8080/",
          "height": 141
        }
      },
      "source": [
        "!pip install emcee\n"
      ],
      "execution_count": 28,
      "outputs": [
        {
          "output_type": "stream",
          "text": [
            "Collecting emcee\n",
            "\u001b[?25l  Downloading https://files.pythonhosted.org/packages/00/08/0d86d0af356d50ff00d741c34a90a971e7ae0a0aeb2bd050bcacfdc34229/emcee-3.0.0-py2.py3-none-any.whl (51kB)\n",
            "\u001b[K     |████████████████████████████████| 61kB 4.2MB/s \n",
            "\u001b[?25hRequirement already satisfied: numpy in /usr/local/lib/python3.6/dist-packages (from emcee) (1.16.5)\n",
            "Installing collected packages: emcee\n",
            "Successfully installed emcee-3.0.0\n"
          ],
          "name": "stdout"
        }
      ]
    }
  ]
}